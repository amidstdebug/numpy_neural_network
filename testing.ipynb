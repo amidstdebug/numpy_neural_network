{
 "cells": [
  {
   "cell_type": "code",
   "execution_count": 1,
   "outputs": [],
   "source": [
    "import numpy as np\n",
    "import matplotlib.pyplot as plt\n"
   ],
   "metadata": {
    "collapsed": false,
    "ExecuteTime": {
     "end_time": "2023-10-14T16:59:51.803881500Z",
     "start_time": "2023-10-14T16:59:50.006091200Z"
    }
   }
  },
  {
   "cell_type": "markdown",
   "source": [
    "# Initialisation"
   ],
   "metadata": {
    "collapsed": false
   }
  },
  {
   "cell_type": "code",
   "execution_count": null,
   "outputs": [],
   "source": [
    "#define architecture\n",
    "input_size = 3\n",
    "hidden_size = 5\n",
    "output_size = 2\n",
    "\n",
    "#define input, weights and biases\n",
    "input_array = np.random.rand(1, input_size)\n",
    "\n",
    "hidden_input = np.zeros((1, hidden_size))\n",
    "hidden_weights = np.random.rand(input_size, hidden_size)\n",
    "hidden_bias = np.random.rand(1, hidden_size)\n",
    "\n",
    "output_input = np.zeros((1, output_size))\n",
    "output_weights = np.random.rand(hidden_size, output_size)\n",
    "output_bias = np.random.rand(1, output_size)"
   ],
   "metadata": {
    "collapsed": false
   }
  },
  {
   "cell_type": "markdown",
   "source": [
    "# For-Loop"
   ],
   "metadata": {
    "collapsed": false
   }
  },
  {
   "cell_type": "code",
   "execution_count": 33,
   "outputs": [
    {
     "name": "stdout",
     "output_type": "stream",
     "text": [
      "[[0.31397706 0.28279007 0.10186578]]\n",
      "[[0.82428953 0.85750183 0.87425954 0.89613637 0.91186049]]\n",
      "[[0.99557603 0.98374724]]\n"
     ]
    }
   ],
   "source": [
    "#forward propagation\n",
    "for i in range(hidden_size):\n",
    "    for j in range(input_size):\n",
    "        hidden_input[0][i] += input_array[0][j] * hidden_weights[j][i]\n",
    "    hidden_input[0][i] += hidden_bias[0][i]\n",
    "    hidden_input[0][i] = 1 / (1 + np.exp(-hidden_input[0][i]))\n",
    "\n",
    "for i in range(output_size):\n",
    "    for j in range(hidden_size):\n",
    "        output_input[0, i] += hidden_input[0][j] * output_weights[j][i]\n",
    "    output_input[0, i] += output_bias[0][i]\n",
    "    output_input[0,i] =  1 / (1 + np.exp(-output_input[0][i]))\n",
    "\n",
    "print(input_array)\n",
    "print(hidden_input)\n",
    "print(output_input)"
   ],
   "metadata": {
    "collapsed": false,
    "ExecuteTime": {
     "end_time": "2023-10-14T17:51:50.289314700Z",
     "start_time": "2023-10-14T17:51:50.280775300Z"
    }
   }
  },
  {
   "cell_type": "markdown",
   "source": [
    "# Dot Matrix Calculation"
   ],
   "metadata": {
    "collapsed": false
   }
  },
  {
   "cell_type": "code",
   "execution_count": 38,
   "outputs": [
    {
     "name": "stdout",
     "output_type": "stream",
     "text": [
      "[[0.31397706 0.28279007 0.10186578]]\n",
      "[[0.67714584 0.72162982 0.74613158 0.78058828 0.80733293]]\n",
      "[[0.97994688 0.93972235]]\n"
     ]
    }
   ],
   "source": [
    "hidden_input = np.dot(input_array,hidden_weights) + hidden_bias\n",
    "hidden_input = 1/(1 + np.exp(-hidden_input))\n",
    "\n",
    "output_input = np.dot(hidden_input,output_weights) + output_bias\n",
    "output_input = 1/(1 + np.exp(-output_input))\n",
    "\n",
    "print(input_array)\n",
    "print(hidden_input)\n",
    "print(output_input)\n"
   ],
   "metadata": {
    "collapsed": false,
    "ExecuteTime": {
     "end_time": "2023-10-14T17:55:14.838399200Z",
     "start_time": "2023-10-14T17:55:14.830893100Z"
    }
   }
  },
  {
   "cell_type": "markdown",
   "source": [
    "# Batching"
   ],
   "metadata": {
    "collapsed": false
   }
  },
  {
   "cell_type": "code",
   "execution_count": null,
   "outputs": [],
   "source": [],
   "metadata": {
    "collapsed": false
   }
  },
  {
   "cell_type": "markdown",
   "source": [
    "# Layer Classes, and classes in general"
   ],
   "metadata": {
    "collapsed": false
   }
  },
  {
   "cell_type": "code",
   "execution_count": null,
   "outputs": [],
   "source": [],
   "metadata": {
    "collapsed": false
   }
  }
 ],
 "metadata": {
  "kernelspec": {
   "display_name": "Python 3",
   "language": "python",
   "name": "python3"
  },
  "language_info": {
   "codemirror_mode": {
    "name": "ipython",
    "version": 2
   },
   "file_extension": ".py",
   "mimetype": "text/x-python",
   "name": "python",
   "nbconvert_exporter": "python",
   "pygments_lexer": "ipython2",
   "version": "2.7.6"
  }
 },
 "nbformat": 4,
 "nbformat_minor": 0
}
